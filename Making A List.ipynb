{
 "cells": [
  {
   "cell_type": "code",
   "execution_count": 4,
   "metadata": {},
   "outputs": [],
   "source": [
    "from imdb import IMDb"
   ]
  },
  {
   "cell_type": "code",
   "execution_count": 5,
   "metadata": {},
   "outputs": [],
   "source": [
    "ia = IMDb()"
   ]
  },
  {
   "cell_type": "code",
   "execution_count": 8,
   "metadata": {},
   "outputs": [],
   "source": [
    "#Pull in and format movie titles from film list\n",
    "with open(\"data/movies.txt\") as movie_file:\n",
    "    movies = [movie.strip() for movie in movie_file.readlines()]"
   ]
  },
  {
   "cell_type": "code",
   "execution_count": 14,
   "metadata": {},
   "outputs": [],
   "source": [
    "movie_info = ia.search_movie(movies[1])[0]"
   ]
  },
  {
   "cell_type": "code",
   "execution_count": 20,
   "metadata": {},
   "outputs": [
    {
     "data": {
      "text/plain": [
       "['All About My Mother',\n",
       " 'Barton Fink',\n",
       " 'Before Sunrise',\n",
       " 'Being John Malkovich',\n",
       " 'Big Lebowski, The',\n",
       " 'Blair Witch Project, The',\n",
       " 'Boogie Nights',\n",
       " 'Boyz N the Hood',\n",
       " 'Chungking Express',\n",
       " 'Close-Up',\n",
       " 'Clueless',\n",
       " 'Dazed and Confused',\n",
       " 'Dead Man',\n",
       " 'Ed Wood',\n",
       " 'Edward Scissorhands',\n",
       " 'Election',\n",
       " 'Eyes Wide Shut',\n",
       " 'Fargo',\n",
       " 'Fight Club',\n",
       " 'Glengarry Glen Ross',\n",
       " 'Goodfellas',\n",
       " 'Groundhog Day',\n",
       " 'Hard Boiled',\n",
       " 'Heat',\n",
       " 'Hoop Dreams',\n",
       " 'Insider, The',\n",
       " 'Iron Giant, The',\n",
       " 'Jackie Brown',\n",
       " 'JFK',\n",
       " 'Jurassic Park',\n",
       " 'L. A. Confidential',\n",
       " 'Leon: The Professional',\n",
       " 'Lion King, The',\n",
       " 'Magnolia',\n",
       " 'Malcolm X',\n",
       " 'Matrix, The',\n",
       " 'Metropolitan',\n",
       " \"Miller's Crossing\",\n",
       " 'My Own Private Idaho',\n",
       " 'Naked',\n",
       " 'Office Space',\n",
       " 'Out of Sight',\n",
       " 'Piano, The',\n",
       " 'The Player',\n",
       " 'Princess Mononoke',\n",
       " 'Pulp Fiction',\n",
       " 'Reservoir Dogs',\n",
       " 'Rushmore',\n",
       " 'Safe',\n",
       " 'Saving Private Ryan',\n",
       " \"Schindler's List\",\n",
       " 'Se7en',\n",
       " 'Shawshank Redemption, The',\n",
       " 'Short Cuts',\n",
       " 'Silence of the Lambs, The',\n",
       " 'Sixth Sense, The',\n",
       " 'Starship Troopers',\n",
       " 'Sweet Hereafter, The',\n",
       " 'Terminator 2: Judgment Day',\n",
       " 'Titanic',\n",
       " \"There's Something About Mary\",\n",
       " 'Thin Red Line, The',\n",
       " 'Three Colors: Blue',\n",
       " 'Three Colors: Red',\n",
       " 'Three Kings',\n",
       " 'Toy Story',\n",
       " 'Toy Story 2',\n",
       " 'Trainspotting',\n",
       " 'Truman Show, The',\n",
       " 'Unforgiven',\n",
       " 'Usual Suspects, The',\n",
       " 'Wild at Heart']"
      ]
     },
     "execution_count": 20,
     "metadata": {},
     "output_type": "execute_result"
    }
   ],
   "source": [
    "movies"
   ]
  },
  {
   "cell_type": "code",
   "execution_count": 24,
   "metadata": {},
   "outputs": [],
   "source": [
    "url_list = []\n",
    "for movie in movies:\n",
    "    movie_imdb = ia.search_movie(movie)[0]\n",
    "    movie_id = movie_imdb.getID()\n",
    "    url_list.append(f\"http://www.imdb.com/title/tt{movie_id}\")"
   ]
  },
  {
   "cell_type": "code",
   "execution_count": 25,
   "metadata": {},
   "outputs": [
    {
     "data": {
      "text/plain": [
       "['http://www.imdb.com/title/tt0185125',\n",
       " 'http://www.imdb.com/title/tt0101410',\n",
       " 'http://www.imdb.com/title/tt0112471',\n",
       " 'http://www.imdb.com/title/tt0120601',\n",
       " 'http://www.imdb.com/title/tt0118715',\n",
       " 'http://www.imdb.com/title/tt0185937',\n",
       " 'http://www.imdb.com/title/tt0118749',\n",
       " 'http://www.imdb.com/title/tt0101507',\n",
       " 'http://www.imdb.com/title/tt0109424',\n",
       " 'http://www.imdb.com/title/tt0100234',\n",
       " 'http://www.imdb.com/title/tt0112697',\n",
       " 'http://www.imdb.com/title/tt0106677',\n",
       " 'http://www.imdb.com/title/tt0112817',\n",
       " 'http://www.imdb.com/title/tt0109707',\n",
       " 'http://www.imdb.com/title/tt0099487',\n",
       " 'http://www.imdb.com/title/tt0126886',\n",
       " 'http://www.imdb.com/title/tt0120663',\n",
       " 'http://www.imdb.com/title/tt2802850',\n",
       " 'http://www.imdb.com/title/tt0137523',\n",
       " 'http://www.imdb.com/title/tt0104348',\n",
       " 'http://www.imdb.com/title/tt0099685',\n",
       " 'http://www.imdb.com/title/tt0107048',\n",
       " 'http://www.imdb.com/title/tt0104684',\n",
       " 'http://www.imdb.com/title/tt0113277',\n",
       " 'http://www.imdb.com/title/tt0110057',\n",
       " 'http://www.imdb.com/title/tt0140352',\n",
       " 'http://www.imdb.com/title/tt0129167',\n",
       " 'http://www.imdb.com/title/tt0119396',\n",
       " 'http://www.imdb.com/title/tt0102138',\n",
       " 'http://www.imdb.com/title/tt0107290',\n",
       " 'http://www.imdb.com/title/tt0119488',\n",
       " 'http://www.imdb.com/title/tt0110413',\n",
       " 'http://www.imdb.com/title/tt0110357',\n",
       " 'http://www.imdb.com/title/tt0175880',\n",
       " 'http://www.imdb.com/title/tt0104797',\n",
       " 'http://www.imdb.com/title/tt0133093',\n",
       " 'http://www.imdb.com/title/tt0100142',\n",
       " 'http://www.imdb.com/title/tt0100150',\n",
       " 'http://www.imdb.com/title/tt0102494',\n",
       " 'http://www.imdb.com/title/tt6048930',\n",
       " 'http://www.imdb.com/title/tt0151804',\n",
       " 'http://www.imdb.com/title/tt0120780',\n",
       " 'http://www.imdb.com/title/tt0107822',\n",
       " 'http://www.imdb.com/title/tt0105151',\n",
       " 'http://www.imdb.com/title/tt0119698',\n",
       " 'http://www.imdb.com/title/tt0110912',\n",
       " 'http://www.imdb.com/title/tt0105236',\n",
       " 'http://www.imdb.com/title/tt0128445',\n",
       " 'http://www.imdb.com/title/tt1656190',\n",
       " 'http://www.imdb.com/title/tt0120815',\n",
       " 'http://www.imdb.com/title/tt0108052',\n",
       " 'http://www.imdb.com/title/tt0114369',\n",
       " 'http://www.imdb.com/title/tt0111161',\n",
       " 'http://www.imdb.com/title/tt0108122',\n",
       " 'http://www.imdb.com/title/tt0102926',\n",
       " 'http://www.imdb.com/title/tt0167404',\n",
       " 'http://www.imdb.com/title/tt0120201',\n",
       " 'http://www.imdb.com/title/tt0120255',\n",
       " 'http://www.imdb.com/title/tt0103064',\n",
       " 'http://www.imdb.com/title/tt0120338',\n",
       " 'http://www.imdb.com/title/tt0129387',\n",
       " 'http://www.imdb.com/title/tt0120863',\n",
       " 'http://www.imdb.com/title/tt0108394',\n",
       " 'http://www.imdb.com/title/tt0111495',\n",
       " 'http://www.imdb.com/title/tt0120188',\n",
       " 'http://www.imdb.com/title/tt0114709',\n",
       " 'http://www.imdb.com/title/tt0120363',\n",
       " 'http://www.imdb.com/title/tt0117951',\n",
       " 'http://www.imdb.com/title/tt0120382',\n",
       " 'http://www.imdb.com/title/tt0105695',\n",
       " 'http://www.imdb.com/title/tt0114814',\n",
       " 'http://www.imdb.com/title/tt0100935']"
      ]
     },
     "execution_count": 25,
     "metadata": {},
     "output_type": "execute_result"
    }
   ],
   "source": [
    "url_list"
   ]
  },
  {
   "cell_type": "code",
   "execution_count": 31,
   "metadata": {},
   "outputs": [],
   "source": [
    "with open(\"results/url_list.txt\", \"w+\") as url_file:\n",
    "    url_file.write(\"\\r\\n\".join(url_list))"
   ]
  }
 ],
 "metadata": {
  "kernelspec": {
   "display_name": "Python 3",
   "language": "python",
   "name": "python3"
  },
  "language_info": {
   "codemirror_mode": {
    "name": "ipython",
    "version": 3
   },
   "file_extension": ".py",
   "mimetype": "text/x-python",
   "name": "python",
   "nbconvert_exporter": "python",
   "pygments_lexer": "ipython3",
   "version": "3.6.2"
  }
 },
 "nbformat": 4,
 "nbformat_minor": 2
}
